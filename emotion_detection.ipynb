{
 "cells": [
  {
   "cell_type": "code",
   "execution_count": 2,
   "id": "f4ae1be1-b497-4d37-95b5-6c3b58e97421",
   "metadata": {},
   "outputs": [],
   "source": [
    "import pandas as pd\n",
    "import numpy as np\n",
    "import matplotlib.pyplot as plt\n",
    "import tensorflow as tf\n",
    "from sklearn.model_selection import train_test_split\n",
    "import os\n",
    "import cv2"
   ]
  },
  {
   "cell_type": "code",
   "execution_count": 2,
   "id": "c8cd9977-4ce7-4032-8fde-ef0231f99839",
   "metadata": {},
   "outputs": [
    {
     "data": {
      "text/html": [
       "<div>\n",
       "<style scoped>\n",
       "    .dataframe tbody tr th:only-of-type {\n",
       "        vertical-align: middle;\n",
       "    }\n",
       "\n",
       "    .dataframe tbody tr th {\n",
       "        vertical-align: top;\n",
       "    }\n",
       "\n",
       "    .dataframe thead th {\n",
       "        text-align: right;\n",
       "    }\n",
       "</style>\n",
       "<table border=\"1\" class=\"dataframe\">\n",
       "  <thead>\n",
       "    <tr style=\"text-align: right;\">\n",
       "      <th></th>\n",
       "      <th>emotion</th>\n",
       "      <th>pixels</th>\n",
       "      <th>Usage</th>\n",
       "    </tr>\n",
       "  </thead>\n",
       "  <tbody>\n",
       "    <tr>\n",
       "      <th>0</th>\n",
       "      <td>0</td>\n",
       "      <td>70 80 82 72 58 58 60 63 54 58 60 48 89 115 121...</td>\n",
       "      <td>Training</td>\n",
       "    </tr>\n",
       "    <tr>\n",
       "      <th>1</th>\n",
       "      <td>0</td>\n",
       "      <td>151 150 147 155 148 133 111 140 170 174 182 15...</td>\n",
       "      <td>Training</td>\n",
       "    </tr>\n",
       "    <tr>\n",
       "      <th>2</th>\n",
       "      <td>2</td>\n",
       "      <td>231 212 156 164 174 138 161 173 182 200 106 38...</td>\n",
       "      <td>Training</td>\n",
       "    </tr>\n",
       "    <tr>\n",
       "      <th>3</th>\n",
       "      <td>4</td>\n",
       "      <td>24 32 36 30 32 23 19 20 30 41 21 22 32 34 21 1...</td>\n",
       "      <td>Training</td>\n",
       "    </tr>\n",
       "    <tr>\n",
       "      <th>4</th>\n",
       "      <td>6</td>\n",
       "      <td>4 0 0 0 0 0 0 0 0 0 0 0 3 15 23 28 48 50 58 84...</td>\n",
       "      <td>Training</td>\n",
       "    </tr>\n",
       "  </tbody>\n",
       "</table>\n",
       "</div>"
      ],
      "text/plain": [
       "   emotion                                             pixels     Usage\n",
       "0        0  70 80 82 72 58 58 60 63 54 58 60 48 89 115 121...  Training\n",
       "1        0  151 150 147 155 148 133 111 140 170 174 182 15...  Training\n",
       "2        2  231 212 156 164 174 138 161 173 182 200 106 38...  Training\n",
       "3        4  24 32 36 30 32 23 19 20 30 41 21 22 32 34 21 1...  Training\n",
       "4        6  4 0 0 0 0 0 0 0 0 0 0 0 3 15 23 28 48 50 58 84...  Training"
      ]
     },
     "execution_count": 2,
     "metadata": {},
     "output_type": "execute_result"
    }
   ],
   "source": [
    "dataset=pd.read_csv('dataset.csv')\n",
    "dataset.head()"
   ]
  },
  {
   "cell_type": "code",
   "execution_count": 3,
   "id": "df385090-ecd1-4eda-a139-369bd31ba77d",
   "metadata": {},
   "outputs": [
    {
     "data": {
      "text/plain": [
       "<matplotlib.image.AxesImage at 0x1f369b54f70>"
      ]
     },
     "execution_count": 3,
     "metadata": {},
     "output_type": "execute_result"
    },
    {
     "data": {
      "image/png": "[encoded data removed]",
      "text/plain": [
       "<Figure size 640x480 with 1 Axes>"
      ]
     },
     "metadata": {},
     "output_type": "display_data"
    }
   ],
   "source": [
    "arr=np.array(dataset.iloc[0]['pixels'].split(\" \")).reshape(48,48).astype('float')\n",
    "plt.imshow(arr)"
   ]
  },
  {
   "cell_type": "code",
   "execution_count": 4,
   "id": "d12f55e8-5bb9-4009-97a3-4f5e033b8b7d",
   "metadata": {},
   "outputs": [],
   "source": [
    "img_arr=dataset['pixels'].apply(lambda x:np.array(x.split(\" \")).reshape(48,48,1).astype('float32'))"
   ]
  },
  {
   "cell_type": "code",
   "execution_count": 5,
   "id": "0bdc8092-1ac0-4cf7-8ed7-8a695dbd8426",
   "metadata": {},
   "outputs": [],
   "source": [
    "img_arr=np.stack(img_arr,axis=0)"
   ]
  },
  {
   "cell_type": "code",
   "execution_count": 6,
   "id": "d9db304b-631d-48bb-b033-808863f0b6b3",
   "metadata": {},
   "outputs": [
    {
     "data": {
      "text/plain": [
       "array([0, 0, 2, ..., 0, 3, 2], dtype=int64)"
      ]
     },
     "execution_count": 6,
     "metadata": {},
     "output_type": "execute_result"
    }
   ],
   "source": [
    "labels=dataset['emotion'].values\n",
    "labels"
   ]
  },
  {
   "cell_type": "code",
   "execution_count": 7,
   "id": "02be7ec9-e552-4b22-b7bc-0a41a2e94d56",
   "metadata": {},
   "outputs": [],
   "source": [
    "x_train,x_test,y_train,y_test=train_test_split(img_arr,labels,test_size=0.2)"
   ]
  },
  {
   "cell_type": "code",
   "execution_count": 8,
   "id": "3ddb0cea-650d-481f-8f63-34d792e8d90e",
   "metadata": {},
   "outputs": [],
   "source": [
    "x_train=x_train/255\n",
    "x_test=x_test/255"
   ]
  },
  {
   "cell_type": "code",
   "execution_count": 9,
   "id": "d45a16e8-58a9-422c-91c9-fe4968c768f4",
   "metadata": {},
   "outputs": [],
   "source": [
    "basemodel=tf.keras.models.Sequential([\n",
    "    tf.keras.layers.Conv2D(32,(3,3),activation='relu',input_shape=(48,48,1)),\n",
    "    tf.keras.layers.MaxPooling2D(2,2),\n",
    "    \n",
    "    tf.keras.layers.Conv2D(64,(3,3),activation='relu',input_shape=(48,48,1)),\n",
    "    tf.keras.layers.MaxPooling2D(2,2),\n",
    "\n",
    "    tf.keras.layers.Conv2D(128,(3,3),activation='relu',input_shape=(48,48,1)),\n",
    "    tf.keras.layers.MaxPooling2D(2,2),\n",
    "\n",
    "    tf.keras.layers.Conv2D(256,(3,3),activation='relu',input_shape=(48,48,1)),\n",
    "    tf.keras.layers.MaxPooling2D(2,2),\n",
    "\n",
    "    tf.keras.layers.Flatten(),\n",
    "    \n",
    "    tf.keras.layers.Dense(1000,activation='relu'),\n",
    "    tf.keras.layers.Dense(7,activation='softmax')\n",
    "])"
   ]
  },
  {
   "cell_type": "code",
   "execution_count": 10,
   "id": "0d40da7d-9a9d-4861-9348-dd0960193c10",
   "metadata": {},
   "outputs": [],
   "source": [
    "basemodel.compile(\n",
    "    optimizer=tf.keras.optimizers.RMSprop(learning_rate=0.0001),\n",
    "    loss='sparse_categorical_crossentropy',\n",
    "    metrics=['accuracy']\n",
    ")"
   ]
  },
  {
   "cell_type": "code",
   "execution_count": 11,
   "id": "907d1ca1-7b31-4fc5-a2b6-be50ff75a3f6",
   "metadata": {},
   "outputs": [],
   "source": [
    "import os\n",
    "try:\n",
    "    os.mkdir('checkpoint')\n",
    "except:\n",
    "    pass\n",
    "    \n"
   ]
  },
  {
   "cell_type": "code",
   "execution_count": 12,
   "id": "0fcc863e-15f4-4048-a6c7-aff3693f9cc4",
   "metadata": {},
   "outputs": [],
   "source": [
    "filename=\"best_model\"\n",
    "checkpoint_path=os.path.join('checkpoint',filename)\n",
    "\n",
    "call_back = tf.keras.callbacks.ModelCheckpoint(filepath=checkpoint_path, \n",
    "                                                 monitor='val_accuracy', \n",
    "                                                 verbose=1,\n",
    "                                                 save_freq='epoch',\n",
    "                                                 save_best_only=True, \n",
    "                                                 save_weights_only=False, \n",
    "                                                 mode='max')"
   ]
  },
  {
   "cell_type": "code",
   "execution_count": 16,
   "id": "50b73461-bfe6-41a0-abe8-228758497cbb",
   "metadata": {},
   "outputs": [
    {
     "name": "stdout",
     "output_type": "stream",
     "text": [
      "Epoch 1/20\n",
      "718/718 [==============================] - ETA: 0s - loss: 0.1441 - accuracy: 0.9545\n",
      "Epoch 1: val_accuracy did not improve from 0.54267\n",
      "718/718 [==============================] - 47s 65ms/step - loss: 0.1441 - accuracy: 0.9545 - val_loss: 2.7129 - val_accuracy: 0.5312\n",
      "Epoch 2/20\n",
      "717/718 [============================>.] - ETA: 0s - loss: 0.1269 - accuracy: 0.9603\n",
      "Epoch 2: val_accuracy did not improve from 0.54267\n",
      "718/718 [==============================] - 54s 75ms/step - loss: 0.1268 - accuracy: 0.9603 - val_loss: 2.7300 - val_accuracy: 0.5214\n",
      "Epoch 3/20\n",
      "718/718 [==============================] - ETA: 0s - loss: 0.1151 - accuracy: 0.9640\n",
      "Epoch 3: val_accuracy did not improve from 0.54267\n",
      "718/718 [==============================] - 55s 76ms/step - loss: 0.1151 - accuracy: 0.9640 - val_loss: 3.0702 - val_accuracy: 0.5045\n",
      "Epoch 4/20\n",
      "717/718 [============================>.] - ETA: 0s - loss: 0.1064 - accuracy: 0.9669\n",
      "Epoch 4: val_accuracy did not improve from 0.54267\n",
      "718/718 [==============================] - 50s 70ms/step - loss: 0.1064 - accuracy: 0.9670 - val_loss: 2.8589 - val_accuracy: 0.5272\n",
      "Epoch 5/20\n",
      "718/718 [==============================] - ETA: 0s - loss: 0.1000 - accuracy: 0.9687\n",
      "Epoch 5: val_accuracy did not improve from 0.54267\n",
      "718/718 [==============================] - 45s 62ms/step - loss: 0.1000 - accuracy: 0.9687 - val_loss: 2.9083 - val_accuracy: 0.5284\n",
      "Epoch 6/20\n",
      "718/718 [==============================] - ETA: 0s - loss: 0.0940 - accuracy: 0.9715\n",
      "Epoch 6: val_accuracy did not improve from 0.54267\n",
      "718/718 [==============================] - 45s 62ms/step - loss: 0.0940 - accuracy: 0.9715 - val_loss: 3.2979 - val_accuracy: 0.5051\n",
      "Epoch 7/20\n",
      "718/718 [==============================] - ETA: 0s - loss: 0.0857 - accuracy: 0.9738\n",
      "Epoch 7: val_accuracy did not improve from 0.54267\n",
      "718/718 [==============================] - 46s 64ms/step - loss: 0.0857 - accuracy: 0.9738 - val_loss: 4.2061 - val_accuracy: 0.5091\n",
      "Epoch 8/20\n",
      "717/718 [============================>.] - ETA: 0s - loss: 0.0843 - accuracy: 0.9744\n",
      "Epoch 8: val_accuracy did not improve from 0.54267\n",
      "718/718 [==============================] - 45s 62ms/step - loss: 0.0843 - accuracy: 0.9744 - val_loss: 3.2478 - val_accuracy: 0.5268\n",
      "Epoch 9/20\n",
      "717/718 [============================>.] - ETA: 0s - loss: 0.0828 - accuracy: 0.9755\n",
      "Epoch 9: val_accuracy did not improve from 0.54267\n",
      "718/718 [==============================] - 45s 62ms/step - loss: 0.0827 - accuracy: 0.9754 - val_loss: 3.4006 - val_accuracy: 0.5263\n",
      "Epoch 10/20\n",
      "717/718 [============================>.] - ETA: 0s - loss: 0.0758 - accuracy: 0.9772\n",
      "Epoch 10: val_accuracy did not improve from 0.54267\n",
      "718/718 [==============================] - 46s 64ms/step - loss: 0.0760 - accuracy: 0.9772 - val_loss: 3.7117 - val_accuracy: 0.5073\n",
      "Epoch 11/20\n",
      "717/718 [============================>.] - ETA: 0s - loss: 0.0764 - accuracy: 0.9780\n",
      "Epoch 11: val_accuracy did not improve from 0.54267\n",
      "718/718 [==============================] - 44s 62ms/step - loss: 0.0764 - accuracy: 0.9780 - val_loss: 3.3409 - val_accuracy: 0.5291\n",
      "Epoch 12/20\n",
      "717/718 [============================>.] - ETA: 0s - loss: 0.0727 - accuracy: 0.9793\n",
      "Epoch 12: val_accuracy did not improve from 0.54267\n",
      "718/718 [==============================] - 46s 64ms/step - loss: 0.0727 - accuracy: 0.9794 - val_loss: 3.4471 - val_accuracy: 0.5327\n",
      "Epoch 13/20\n",
      "718/718 [==============================] - ETA: 0s - loss: 0.0662 - accuracy: 0.9815\n",
      "Epoch 13: val_accuracy did not improve from 0.54267\n",
      "718/718 [==============================] - 49s 68ms/step - loss: 0.0662 - accuracy: 0.9815 - val_loss: 3.8522 - val_accuracy: 0.5143\n",
      "Epoch 14/20\n",
      "718/718 [==============================] - ETA: 0s - loss: 0.0651 - accuracy: 0.9809\n",
      "Epoch 14: val_accuracy did not improve from 0.54267\n",
      "718/718 [==============================] - 50s 70ms/step - loss: 0.0651 - accuracy: 0.9809 - val_loss: 3.7373 - val_accuracy: 0.5129\n",
      "Epoch 15/20\n",
      "717/718 [============================>.] - ETA: 0s - loss: 0.0611 - accuracy: 0.9820\n",
      "Epoch 15: val_accuracy did not improve from 0.54267\n",
      "718/718 [==============================] - 45s 63ms/step - loss: 0.0610 - accuracy: 0.9820 - val_loss: 3.6324 - val_accuracy: 0.5371\n",
      "Epoch 16/20\n",
      "717/718 [============================>.] - ETA: 0s - loss: 0.0641 - accuracy: 0.9811\n",
      "Epoch 16: val_accuracy did not improve from 0.54267\n",
      "718/718 [==============================] - 44s 62ms/step - loss: 0.0641 - accuracy: 0.9811 - val_loss: 3.6249 - val_accuracy: 0.5282\n",
      "Epoch 17/20\n",
      "718/718 [==============================] - ETA: 0s - loss: 0.0642 - accuracy: 0.9820\n",
      "Epoch 17: val_accuracy did not improve from 0.54267\n",
      "718/718 [==============================] - 48s 67ms/step - loss: 0.0642 - accuracy: 0.9820 - val_loss: 3.6469 - val_accuracy: 0.5345\n",
      "Epoch 18/20\n",
      "717/718 [============================>.] - ETA: 0s - loss: 0.0602 - accuracy: 0.9833\n",
      "Epoch 18: val_accuracy did not improve from 0.54267\n",
      "718/718 [==============================] - 49s 69ms/step - loss: 0.0602 - accuracy: 0.9832 - val_loss: 3.6459 - val_accuracy: 0.5317\n",
      "Epoch 19/20\n",
      "717/718 [============================>.] - ETA: 0s - loss: 0.0528 - accuracy: 0.9854\n",
      "Epoch 19: val_accuracy did not improve from 0.54267\n",
      "718/718 [==============================] - 48s 67ms/step - loss: 0.0528 - accuracy: 0.9854 - val_loss: 4.6596 - val_accuracy: 0.4997\n",
      "Epoch 20/20\n",
      "717/718 [============================>.] - ETA: 0s - loss: 0.0557 - accuracy: 0.9837\n",
      "Epoch 20: val_accuracy did not improve from 0.54267\n",
      "718/718 [==============================] - 44s 61ms/step - loss: 0.0556 - accuracy: 0.9837 - val_loss: 4.0422 - val_accuracy: 0.5246\n"
     ]
    },
    {
     "data": {
      "text/plain": [
       "<keras.callbacks.History at 0x1f30fd947c0>"
      ]
     },
     "execution_count": 16,
     "metadata": {},
     "output_type": "execute_result"
    }
   ],
   "source": [
    "basemodel.fit(x_train,y_train,epochs=20,validation_split=0.2,callbacks=call_back)"
   ]
  },
  {
   "cell_type": "code",
   "execution_count": 3,
   "id": "8200289d",
   "metadata": {},
   "outputs": [],
   "source": [
    "filename=\"best_model\"\n",
    "checkpoint_path=os.path.join('checkpoint',filename)\n",
    "model=tf.keras.models.load_model(checkpoint_path)"
   ]
  },
  {
   "cell_type": "code",
   "execution_count": 12,
   "id": "9041fe06-a5a5-49e0-a69f-e7e02357dc9a",
   "metadata": {},
   "outputs": [
    {
     "name": "stdout",
     "output_type": "stream",
     "text": [
      "1/1 [==============================] - 0s 38ms/step\n",
      "[[1. 0. 0. 0. 0. 0. 0.]]\n"
     ]
    }
   ],
   "source": [
    "import cv2\n",
    "import numpy as np\n",
    "\n",
    "def preprocess_image(imagepath):\n",
    "    image = cv2.imread(imagepath)\n",
    "    \n",
    "    resized_frame = cv2.resize(image, (48, 48))\n",
    "    gray_frame = cv2.cvtColor(resized_frame, cv2.COLOR_BGR2GRAY)\n",
    "    \n",
    "    input_image = np.reshape(gray_frame, (48, 48, 1))\n",
    "\n",
    "    return input_image\n",
    "\n",
    "imagepath = \"C:\\\\Users\\\\Ronit Ahuja\\\\OneDrive\\\\Documents\\\\vs code practice\\\\learn cnn\\\\angery1.jpg\"\n",
    "image = preprocess_image(imagepath=imagepath)\n",
    "prediction = model.predict(np.expand_dims(image, axis=0))\n",
    "print(prediction)\n"
   ]
  },
  {
   "cell_type": "code",
   "execution_count": null,
   "id": "a18eb63e",
   "metadata": {},
   "outputs": [],
   "source": []
  }
 ],
 "metadata": {
  "kernelspec": {
   "display_name": "Python 3 (ipykernel)",
   "language": "python",
   "name": "python3"
  },
  "language_info": {
   "codemirror_mode": {
    "name": "ipython",
    "version": 3
   },
   "file_extension": ".py",
   "mimetype": "text/x-python",
   "name": "python",
   "nbconvert_exporter": "python",
   "pygments_lexer": "ipython3",
   "version": "3.10.9"
  }
 },
 "nbformat": 4,
 "nbformat_minor": 5
}
